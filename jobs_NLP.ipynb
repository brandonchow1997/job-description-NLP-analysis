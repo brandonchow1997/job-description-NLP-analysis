{
 "cells": [
  {
   "cell_type": "markdown",
   "metadata": {},
   "source": [
    "# 读取数据"
   ]
  },
  {
   "cell_type": "code",
   "execution_count": 1,
   "metadata": {},
   "outputs": [],
   "source": [
    "import pymongo\n",
    "import pandas as pd\n",
    "from pandas import Series\n",
    "client = pymongo.MongoClient('localhost',27017)\n",
    "db  = client['Graduation_project']\n",
    "table = db['jobs_desc_data']\n",
    "data = pd.DataFrame(list(table.find()))\n",
    "del data['_id']\n",
    "del data['省']"
   ]
  },
  {
   "cell_type": "code",
   "execution_count": 2,
   "metadata": {
    "scrolled": false
   },
   "outputs": [
    {
     "data": {
      "text/html": [
       "<div>\n",
       "<style scoped>\n",
       "    .dataframe tbody tr th:only-of-type {\n",
       "        vertical-align: middle;\n",
       "    }\n",
       "\n",
       "    .dataframe tbody tr th {\n",
       "        vertical-align: top;\n",
       "    }\n",
       "\n",
       "    .dataframe thead th {\n",
       "        text-align: right;\n",
       "    }\n",
       "</style>\n",
       "<table border=\"1\" class=\"dataframe\">\n",
       "  <thead>\n",
       "    <tr style=\"text-align: right;\">\n",
       "      <th></th>\n",
       "      <th>公司名称</th>\n",
       "      <th>公司规模</th>\n",
       "      <th>城市</th>\n",
       "      <th>学历要求</th>\n",
       "      <th>工作经验</th>\n",
       "      <th>职位名称</th>\n",
       "      <th>职位描述</th>\n",
       "      <th>职位薪资</th>\n",
       "    </tr>\n",
       "  </thead>\n",
       "  <tbody>\n",
       "    <tr>\n",
       "      <th>0</th>\n",
       "      <td>车主邦</td>\n",
       "      <td>100-499人</td>\n",
       "      <td>北京</td>\n",
       "      <td>本科</td>\n",
       "      <td>3-5年</td>\n",
       "      <td>数据分析</td>\n",
       "      <td>职位描述：1、熟悉公司运作，对各部门的数据统计分析工作给予支持配合。推送数据报表，为业务提供...</td>\n",
       "      <td>20k-23k</td>\n",
       "    </tr>\n",
       "    <tr>\n",
       "      <th>1</th>\n",
       "      <td>一指遥</td>\n",
       "      <td>100-499人</td>\n",
       "      <td>北京</td>\n",
       "      <td>本科</td>\n",
       "      <td>1-3年</td>\n",
       "      <td>数据分析师</td>\n",
       "      <td>1.根据各部门数据需求，统计整理数据，并按业务部门需求形式呈现并反馈给业务部门；2.根据各部...</td>\n",
       "      <td>4k-5k</td>\n",
       "    </tr>\n",
       "    <tr>\n",
       "      <th>2</th>\n",
       "      <td>宜信公司</td>\n",
       "      <td>10000人以上</td>\n",
       "      <td>北京</td>\n",
       "      <td>本科</td>\n",
       "      <td>经验不限</td>\n",
       "      <td>数据分析专员</td>\n",
       "      <td>职位说明负责日常的业绩报表制作、维护，以及业绩分析报告的撰写，并负责自动化报表的开发及测试工...</td>\n",
       "      <td>10k-12k</td>\n",
       "    </tr>\n",
       "    <tr>\n",
       "      <th>3</th>\n",
       "      <td>会分期</td>\n",
       "      <td>100-499人</td>\n",
       "      <td>北京</td>\n",
       "      <td>本科</td>\n",
       "      <td>3-5年</td>\n",
       "      <td>高级数据分析师</td>\n",
       "      <td>数据分析主管岗位职责： 1. 通过数据的挖掘，密切关注运营进程，参与制定运营管理策略，提出改...</td>\n",
       "      <td>15k-25k</td>\n",
       "    </tr>\n",
       "    <tr>\n",
       "      <th>4</th>\n",
       "      <td>滴滴出行</td>\n",
       "      <td>10000人以上</td>\n",
       "      <td>北京</td>\n",
       "      <td>本科</td>\n",
       "      <td>1-3年</td>\n",
       "      <td>数据分析</td>\n",
       "      <td>\"工作职责：1.负责滴滴核心出行业务团队的数据分析、模型训练；2.利用技术实现业务的原始数据...</td>\n",
       "      <td>25k-50k</td>\n",
       "    </tr>\n",
       "  </tbody>\n",
       "</table>\n",
       "</div>"
      ],
      "text/plain": [
       "   公司名称      公司规模  城市 学历要求  工作经验     职位名称  \\\n",
       "0   车主邦  100-499人  北京   本科  3-5年     数据分析   \n",
       "1   一指遥  100-499人  北京   本科  1-3年    数据分析师   \n",
       "2  宜信公司  10000人以上  北京   本科  经验不限   数据分析专员   \n",
       "3   会分期  100-499人  北京   本科  3-5年  高级数据分析师   \n",
       "4  滴滴出行  10000人以上  北京   本科  1-3年     数据分析   \n",
       "\n",
       "                                                职位描述     职位薪资  \n",
       "0  职位描述：1、熟悉公司运作，对各部门的数据统计分析工作给予支持配合。推送数据报表，为业务提供...  20k-23k  \n",
       "1  1.根据各部门数据需求，统计整理数据，并按业务部门需求形式呈现并反馈给业务部门；2.根据各部...    4k-5k  \n",
       "2  职位说明负责日常的业绩报表制作、维护，以及业绩分析报告的撰写，并负责自动化报表的开发及测试工...  10k-12k  \n",
       "3  数据分析主管岗位职责： 1. 通过数据的挖掘，密切关注运营进程，参与制定运营管理策略，提出改...  15k-25k  \n",
       "4  \"工作职责：1.负责滴滴核心出行业务团队的数据分析、模型训练；2.利用技术实现业务的原始数据...  25k-50k  "
      ]
     },
     "execution_count": 2,
     "metadata": {},
     "output_type": "execute_result"
    }
   ],
   "source": [
    "data.head()"
   ]
  },
  {
   "cell_type": "markdown",
   "metadata": {},
   "source": [
    "### 输出到csv"
   ]
  },
  {
   "cell_type": "code",
   "execution_count": 3,
   "metadata": {},
   "outputs": [],
   "source": [
    "data.to_csv('jobs_with_description.csv')"
   ]
  },
  {
   "cell_type": "markdown",
   "metadata": {},
   "source": [
    "___"
   ]
  },
  {
   "cell_type": "markdown",
   "metadata": {},
   "source": [
    "# jieba实验"
   ]
  },
  {
   "cell_type": "markdown",
   "metadata": {},
   "source": [
    "## 读取软技能dict"
   ]
  },
  {
   "cell_type": "code",
   "execution_count": 4,
   "metadata": {},
   "outputs": [],
   "source": [
    "with open('./dict/软技能.txt',\"r\") as f:\n",
    "    soft_skills = f.read()\n",
    "skilllist = soft_skills.split('\\n')"
   ]
  },
  {
   "cell_type": "markdown",
   "metadata": {},
   "source": [
    "## 读取硬技能dict"
   ]
  },
  {
   "cell_type": "code",
   "execution_count": 5,
   "metadata": {},
   "outputs": [],
   "source": [
    "with open('./dict/硬技能.txt',\"r\") as f:\n",
    "    hard_skills = f.read()"
   ]
  },
  {
   "cell_type": "markdown",
   "metadata": {},
   "source": [
    "## 读取停用词dict"
   ]
  },
  {
   "cell_type": "code",
   "execution_count": 6,
   "metadata": {},
   "outputs": [],
   "source": [
    "with open('./dict/Stopword.txt',\"r\",encoding='utf-8') as f:\n",
    "    stopwords = f.read()\n",
    "stopwords = stopwords.split('\\n')"
   ]
  },
  {
   "cell_type": "markdown",
   "metadata": {},
   "source": [
    "___"
   ]
  },
  {
   "cell_type": "markdown",
   "metadata": {},
   "source": [
    "### 引入jieba分词库，并读取用户字典"
   ]
  },
  {
   "cell_type": "code",
   "execution_count": 7,
   "metadata": {},
   "outputs": [
    {
     "name": "stderr",
     "output_type": "stream",
     "text": [
      "Building prefix dict from the default dictionary ...\n",
      "Loading model from cache C:\\Users\\13626\\AppData\\Local\\Temp\\jieba.cache\n",
      "Loading model cost 0.796 seconds.\n",
      "Prefix dict has been built succesfully.\n"
     ]
    }
   ],
   "source": [
    "import jieba\n",
    "jieba.load_userdict(\"./dict/userdict.txt\")"
   ]
  },
  {
   "cell_type": "markdown",
   "metadata": {},
   "source": [
    "---"
   ]
  },
  {
   "cell_type": "markdown",
   "metadata": {},
   "source": [
    "### 列表初始化"
   ]
  },
  {
   "cell_type": "code",
   "execution_count": 8,
   "metadata": {},
   "outputs": [],
   "source": [
    "# 初始化软技能列表\n",
    "soft_skills_count_list = []\n",
    "# 初始化硬技能列表\n",
    "hard_skills_count_list = []"
   ]
  },
  {
   "cell_type": "markdown",
   "metadata": {},
   "source": [
    "## 软技能匹配函数"
   ]
  },
  {
   "cell_type": "code",
   "execution_count": 9,
   "metadata": {},
   "outputs": [],
   "source": [
    "def match_soft(skills):\n",
    "    for item in skills:\n",
    "        if item not in stopwords:\n",
    "            if item in soft_skills:\n",
    "                soft_skills_count_list.append(item)"
   ]
  },
  {
   "cell_type": "markdown",
   "metadata": {},
   "source": [
    "### 匹配职位描述中的软技能"
   ]
  },
  {
   "cell_type": "code",
   "execution_count": 10,
   "metadata": {},
   "outputs": [],
   "source": [
    "for item in data['职位描述']:\n",
    "    skill_list = jieba.lcut(item)\n",
    "    #print(skill_list)\n",
    "    skill_list = list(set(skill_list)) # list去重\n",
    "    #print(skill_list)\n",
    "    match_soft(skill_list)"
   ]
  },
  {
   "cell_type": "code",
   "execution_count": 11,
   "metadata": {},
   "outputs": [
    {
     "data": {
      "text/plain": [
       "数据分析    1217\n",
       "运营       667\n",
       "数据挖掘     444\n",
       "建模       412\n",
       "模型       384\n",
       "逻辑思维     358\n",
       "管理       355\n",
       "学习       338\n",
       "数据库      291\n",
       "算法       290\n",
       "dtype: int64"
      ]
     },
     "execution_count": 11,
     "metadata": {},
     "output_type": "execute_result"
    }
   ],
   "source": [
    "soft_skills = Series(soft_skills_count_list).value_counts()\n",
    "soft_skills[:10]"
   ]
  },
  {
   "cell_type": "markdown",
   "metadata": {},
   "source": [
    "## 硬技能匹配函数"
   ]
  },
  {
   "cell_type": "code",
   "execution_count": 12,
   "metadata": {},
   "outputs": [],
   "source": [
    "def match_hard(skill_list):\n",
    "    for skill in skill_list:\n",
    "        # 单词转换为首字母大写，其余小写\n",
    "        if skill.capitalize() not in stopwords:\n",
    "            if skill.capitalize() in hard_skills:\n",
    "                hard_skills_count_list.append(skill.capitalize())"
   ]
  },
  {
   "cell_type": "markdown",
   "metadata": {},
   "source": [
    "### 正则提取英文单词"
   ]
  },
  {
   "cell_type": "code",
   "execution_count": 13,
   "metadata": {},
   "outputs": [],
   "source": [
    "import re\n",
    "pattern = '[a-zA-Z]+'\n",
    "#skill_list = re.findall(pattern,data['职位描述'])"
   ]
  },
  {
   "cell_type": "code",
   "execution_count": 14,
   "metadata": {},
   "outputs": [
    {
     "ename": "NameError",
     "evalue": "name 'match_skills' is not defined",
     "output_type": "error",
     "traceback": [
      "\u001b[1;31m---------------------------------------------------------------------------\u001b[0m",
      "\u001b[1;31mNameError\u001b[0m                                 Traceback (most recent call last)",
      "\u001b[1;32m<ipython-input-14-24e76b4d3ee3>\u001b[0m in \u001b[0;36m<module>\u001b[1;34m\u001b[0m\n\u001b[0;32m      2\u001b[0m     \u001b[0mskill_list\u001b[0m \u001b[1;33m=\u001b[0m \u001b[0mre\u001b[0m\u001b[1;33m.\u001b[0m\u001b[0mfindall\u001b[0m\u001b[1;33m(\u001b[0m\u001b[0mpattern\u001b[0m\u001b[1;33m,\u001b[0m\u001b[0mitem\u001b[0m\u001b[1;33m)\u001b[0m\u001b[1;33m\u001b[0m\u001b[0m\n\u001b[0;32m      3\u001b[0m     \u001b[0mskill_list\u001b[0m \u001b[1;33m=\u001b[0m \u001b[0mlist\u001b[0m\u001b[1;33m(\u001b[0m\u001b[0mset\u001b[0m\u001b[1;33m(\u001b[0m\u001b[0mskill_list\u001b[0m\u001b[1;33m)\u001b[0m\u001b[1;33m)\u001b[0m \u001b[1;31m# list去重\u001b[0m\u001b[1;33m\u001b[0m\u001b[0m\n\u001b[1;32m----> 4\u001b[1;33m     \u001b[0mmatch_skills\u001b[0m\u001b[1;33m(\u001b[0m\u001b[0mskill_list\u001b[0m\u001b[1;33m)\u001b[0m\u001b[1;33m\u001b[0m\u001b[0m\n\u001b[0m",
      "\u001b[1;31mNameError\u001b[0m: name 'match_skills' is not defined"
     ]
    }
   ],
   "source": [
    "for item in data['职位描述']:\n",
    "    skill_list = re.findall(pattern,item)\n",
    "    skill_list = list(set(skill_list)) # list去重\n",
    "    match_skills(skill_list)"
   ]
  },
  {
   "cell_type": "code",
   "execution_count": null,
   "metadata": {},
   "outputs": [],
   "source": [
    "hard_skills = Series(hard_skills_count_list).value_counts()\n",
    "hard_skills[:10]"
   ]
  }
 ],
 "metadata": {
  "kernelspec": {
   "display_name": "Python 3",
   "language": "python",
   "name": "python3"
  }
 },
 "nbformat": 4,
 "nbformat_minor": 2
}
